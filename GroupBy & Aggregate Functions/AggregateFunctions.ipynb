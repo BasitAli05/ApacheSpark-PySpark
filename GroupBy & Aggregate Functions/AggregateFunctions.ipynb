{
 "cells": [
  {
   "cell_type": "code",
   "execution_count": 58,
   "id": "84312112",
   "metadata": {},
   "outputs": [],
   "source": [
    "from pyspark.sql import SparkSession\n",
    "from pyspark.sql import functions as F"
   ]
  },
  {
   "cell_type": "code",
   "execution_count": 2,
   "id": "b7b47969",
   "metadata": {},
   "outputs": [],
   "source": [
    "spark = SparkSession.builder.appName(\"AggFunc\").getOrCreate()"
   ]
  },
  {
   "cell_type": "code",
   "execution_count": 3,
   "id": "3df945a8",
   "metadata": {},
   "outputs": [
    {
     "data": {
      "text/html": [
       "\n",
       "            <div>\n",
       "                <p><b>SparkSession - in-memory</b></p>\n",
       "                \n",
       "        <div>\n",
       "            <p><b>SparkContext</b></p>\n",
       "\n",
       "            <p><a href=\"http://DESKTOP-NK0QLT7:4040\">Spark UI</a></p>\n",
       "\n",
       "            <dl>\n",
       "              <dt>Version</dt>\n",
       "                <dd><code>v3.5.0</code></dd>\n",
       "              <dt>Master</dt>\n",
       "                <dd><code>local[*]</code></dd>\n",
       "              <dt>AppName</dt>\n",
       "                <dd><code>AggFunc</code></dd>\n",
       "            </dl>\n",
       "        </div>\n",
       "        \n",
       "            </div>\n",
       "        "
      ],
      "text/plain": [
       "<pyspark.sql.session.SparkSession at 0x1966ce0fdc0>"
      ]
     },
     "execution_count": 3,
     "metadata": {},
     "output_type": "execute_result"
    }
   ],
   "source": [
    "spark"
   ]
  },
  {
   "cell_type": "code",
   "execution_count": 6,
   "id": "210b9f3c",
   "metadata": {},
   "outputs": [],
   "source": [
    "df = spark.read.csv(\"AggFunc.csv\",header=True,inferSchema=True)"
   ]
  },
  {
   "cell_type": "code",
   "execution_count": 9,
   "id": "32f0112d",
   "metadata": {},
   "outputs": [
    {
     "name": "stdout",
     "output_type": "stream",
     "text": [
      "root\n",
      " |-- Name: string (nullable = true)\n",
      " |-- Departments: string (nullable = true)\n",
      " |-- salary: integer (nullable = true)\n",
      "\n"
     ]
    }
   ],
   "source": [
    "df.printSchema()"
   ]
  },
  {
   "cell_type": "markdown",
   "id": "6a542a51",
   "metadata": {},
   "source": [
    "### Aggregate functions always return a single value"
   ]
  },
  {
   "cell_type": "code",
   "execution_count": 8,
   "id": "c61a5257",
   "metadata": {},
   "outputs": [
    {
     "name": "stdout",
     "output_type": "stream",
     "text": [
      "+-----+------------+------+\n",
      "| Name| Departments|salary|\n",
      "+-----+------------+------+\n",
      "|Basit|Data Science| 10000|\n",
      "|Basit|          ML|  5000|\n",
      "|  Ali|    Big Data|  4000|\n",
      "|Basit|    Big Data|  4000|\n",
      "|  Ali|Data Science|  3000|\n",
      "|Ahmed|Data Science| 20000|\n",
      "|Ahmed|          ML| 10000|\n",
      "|Ahmed|    Big Data|  5000|\n",
      "|Sunny|Data Science| 10000|\n",
      "|Sunny|    Big Data|  2000|\n",
      "+-----+------------+------+\n",
      "\n"
     ]
    }
   ],
   "source": [
    "df.show()"
   ]
  },
  {
   "cell_type": "code",
   "execution_count": 21,
   "id": "1aa5532b",
   "metadata": {},
   "outputs": [
    {
     "name": "stdout",
     "output_type": "stream",
     "text": [
      "+------------+-----------+\n",
      "| Departments|sum(salary)|\n",
      "+------------+-----------+\n",
      "|    Big Data|      15000|\n",
      "|          ML|      15000|\n",
      "|Data Science|      43000|\n",
      "+------------+-----------+\n",
      "\n"
     ]
    }
   ],
   "source": [
    "# Sum of salary of all departments\n",
    "df.groupBy(\"Departments\").sum(\"salary\").show()"
   ]
  },
  {
   "cell_type": "code",
   "execution_count": 51,
   "id": "aaae4015",
   "metadata": {},
   "outputs": [
    {
     "name": "stdout",
     "output_type": "stream",
     "text": [
      "+------------+-----------+\n",
      "| Departments|max(salary)|\n",
      "+------------+-----------+\n",
      "|    Big Data|       5000|\n",
      "|          ML|      10000|\n",
      "|Data Science|      20000|\n",
      "+------------+-----------+\n",
      "\n"
     ]
    }
   ],
   "source": [
    "# Max salary w.r.t departments\n",
    "df.groupBy(\"Departments\").max(\"salary\").show()"
   ]
  },
  {
   "cell_type": "code",
   "execution_count": 105,
   "id": "e5a0e342",
   "metadata": {},
   "outputs": [
    {
     "name": "stdout",
     "output_type": "stream",
     "text": [
      "+------------+--------------+\n",
      "| Departments|    max_struct|\n",
      "+------------+--------------+\n",
      "|    Big Data| {5000, Ahmed}|\n",
      "|Data Science|{20000, Ahmed}|\n",
      "|          ML|{10000, Ahmed}|\n",
      "+------------+--------------+\n",
      "\n"
     ]
    }
   ],
   "source": [
    "df.createOrReplaceTempView(\"EMP\")\n",
    "query=\"SELECT Departments, MAX(struct(salary,Name)) AS max_struct FROM EMP GROUP BY Departments;\"\n",
    "spark.sql(query).show()"
   ]
  },
  {
   "cell_type": "code",
   "execution_count": 106,
   "id": "d41ec667",
   "metadata": {},
   "outputs": [
    {
     "name": "stdout",
     "output_type": "stream",
     "text": [
      "+-----+------------+--------------+\n",
      "| Name| Departments|highest_salary|\n",
      "+-----+------------+--------------+\n",
      "|Ahmed|    Big Data|          5000|\n",
      "|Ahmed|Data Science|         20000|\n",
      "|Ahmed|          ML|         10000|\n",
      "+-----+------------+--------------+\n",
      "\n"
     ]
    }
   ],
   "source": [
    "# Fetch Complete rows of maximum salary w.r.t departments using Pyspark SQL\n",
    "sql_str=\"SELECT e.max_struct.Name AS Name, e.Departments, e.max_struct.salary AS highest_salary\"\\\n",
    "        \" FROM ( SELECT Departments, MAX(struct(salary, Name)) AS max_struct FROM EMP GROUP BY Departments) AS e;\"\n",
    "spark.sql(sql_str).show()"
   ]
  },
  {
   "cell_type": "code",
   "execution_count": 104,
   "id": "dd0b60c0",
   "metadata": {},
   "outputs": [
    {
     "name": "stdout",
     "output_type": "stream",
     "text": [
      "+-----+------------+--------------+\n",
      "| Name| Departments|highest_salary|\n",
      "+-----+------------+--------------+\n",
      "|Ahmed|    Big Data|          5000|\n",
      "|Ahmed|Data Science|         20000|\n",
      "|Ahmed|          ML|         10000|\n",
      "+-----+------------+--------------+\n",
      "\n"
     ]
    }
   ],
   "source": [
    "# Fetch Complete rows of maximum salary w.r.t departments using GroupBy agg functions on DataFrame\n",
    "result = df.groupBy(\"Departments\").agg(F.max(F.struct(\"salary\", \"Name\")).alias(\"max\")) \\\n",
    "    .selectExpr(\"max.Name\", \"Departments\", \"max.salary as highest_salary\")\n",
    "\n",
    "result.show()"
   ]
  },
  {
   "cell_type": "code",
   "execution_count": 22,
   "id": "296583b7",
   "metadata": {},
   "outputs": [
    {
     "name": "stdout",
     "output_type": "stream",
     "text": [
      "+------------+-----+\n",
      "| Departments|count|\n",
      "+------------+-----+\n",
      "|    Big Data|    4|\n",
      "|          ML|    2|\n",
      "|Data Science|    4|\n",
      "+------------+-----+\n",
      "\n"
     ]
    }
   ],
   "source": [
    "# Count w.r.t department\n",
    "df.groupBy(\"Departments\").count().show()"
   ]
  },
  {
   "cell_type": "code",
   "execution_count": 28,
   "id": "b3d2ff02",
   "metadata": {},
   "outputs": [
    {
     "name": "stdout",
     "output_type": "stream",
     "text": [
      "+-----------+\n",
      "|max(salary)|\n",
      "+-----------+\n",
      "|      20000|\n",
      "+-----------+\n",
      "\n"
     ]
    }
   ],
   "source": [
    "# What is maximum salary\n",
    "df.groupBy().max(\"salary\").show()"
   ]
  },
  {
   "cell_type": "code",
   "execution_count": 32,
   "id": "d55874a8",
   "metadata": {},
   "outputs": [
    {
     "name": "stdout",
     "output_type": "stream",
     "text": [
      "+-----+-----------+\n",
      "| Name|max(salary)|\n",
      "+-----+-----------+\n",
      "|Basit|      10000|\n",
      "|Sunny|      10000|\n",
      "|Ahmed|      20000|\n",
      "|  Ali|       4000|\n",
      "+-----+-----------+\n",
      "\n"
     ]
    }
   ],
   "source": [
    "# maximum salary of each individual\n",
    "df.groupBy(\"Name\").max(\"salary\").show()"
   ]
  }
 ],
 "metadata": {
  "kernelspec": {
   "display_name": "Python 3 (ipykernel)",
   "language": "python",
   "name": "python3"
  },
  "language_info": {
   "codemirror_mode": {
    "name": "ipython",
    "version": 3
   },
   "file_extension": ".py",
   "mimetype": "text/x-python",
   "name": "python",
   "nbconvert_exporter": "python",
   "pygments_lexer": "ipython3",
   "version": "3.9.12"
  }
 },
 "nbformat": 4,
 "nbformat_minor": 5
}
